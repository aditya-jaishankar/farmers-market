{
 "cells": [
  {
   "cell_type": "markdown",
   "metadata": {},
   "source": [
    "# Latent Dirichlet Allocation\n",
    "\n",
    "This is the main chunk of the code.\n",
    "\n",
    "The eventual goal is to treat the hashtag list for each user as being document1, and the cleaned full-text words as being document 2. So each user has two documents. Now I do topic modeling across each document for each user and for each user find a list of topics, and then the words that lie within each topic. Therefore, I have now for each user a dictionary with keys as topics and values as the words associated with each topic. What I am then hoping to do is some sort of visualization to extract the most relevant topics that exhibit the words that I am interested in. "
   ]
  },
  {
   "cell_type": "code",
   "execution_count": 17,
   "metadata": {},
   "outputs": [],
   "source": [
    "# General imports\n",
    "import json\n",
    "import glob\n",
    "import pickle\n",
    "import collections\n",
    "import random\n",
    "from tqdm import tqdm as tqdm\n",
    "import config\n",
    "import time\n",
    "import os\n",
    "dirpath = os.path.dirname(os.path.realpath('__file__'))\n",
    "from pprint import pprint\n",
    "\n",
    "# import logging\n",
    "# logging.basicConfig(format='%(levelname)s : %(message)s', level=logging.INFO)\n",
    "# logging.root.level = logging.INFO\n",
    "\n",
    "# NLP imports\n",
    "import nltk\n",
    "from nltk.corpus import stopwords\n",
    "stop_words = stopwords.words('english')\n",
    "stop_words.extend(['from', 'subject', 're', 'edu', 'http', 'https', 'http'])\n",
    "import re\n",
    "import gensim\n",
    "import gensim.corpora as corpora\n",
    "from gensim.models import CoherenceModel\n",
    "import spacy\n",
    "nlp = spacy.load('en_core_web_sm', disable=['parser', 'ner'])\n",
    "\n",
    "# To check later if a words is in english or not\n",
    "with open('./words_dictionary.json') as filehandle:\n",
    "    words_dictionary = json.load(filehandle)\n",
    "english_words = words_dictionary.keys()\n",
    "\n",
    "# Visualization imports\n",
    "import pyLDAvis\n",
    "import pyLDAvis.gensim\n",
    "# pyLDAvis.enable_notebook()\n",
    "import matplotlib.pyplot as plt\n",
    "\n",
    "# Other imports\n",
    "import pandas as pd\n",
    "import numpy as np\n",
    "import tweepy"
   ]
  },
  {
   "cell_type": "markdown",
   "metadata": {},
   "source": [
    "## Creating the cleaned and simplified tweet dictionary\n",
    "\n",
    "Here, we first load in the dictionaries that were dumped in as pickle files and then do a series of text processing and cleaning tasks. I initially start with a dicitonary of the form:\n",
    "\n",
    "```\n",
    "{\n",
    "    market_1: {\n",
    "                screen_name_1: [{tweet1, ..., tweetn}],\n",
    "                .\n",
    "                .\n",
    "                .\n",
    "                screen_name_m: [{tweet1, ..., tweetn}]\n",
    "             }\n",
    "    .\n",
    "    .\n",
    "    .\n",
    "    market_k: {\n",
    "                screen_name_1: [{tweet1, ..., tweetn}],\n",
    "                .\n",
    "                .\n",
    "                .\n",
    "                screen_name_m: [{tweet1, ..., tweetn}]\n",
    "             }\n",
    "}\n",
    "```\n",
    "\n",
    "This section of the code will then process will result in a dictionary of the form\n",
    "\n",
    "```\n",
    "{\n",
    "    market_1: {\n",
    "                screen_name_1: \n",
    "                    {\n",
    "                        hashtags: [list of hashtags from each tweet], \n",
    "                        fulltext: [list of all cleaned/depunkt words across all tweets]\n",
    "                    },\n",
    "                .\n",
    "                .\n",
    "                screen_name_m: \n",
    "                    {\n",
    "                        hashtags: [list of hashtags from each tweet], \n",
    "                        fulltext: [list of all cleaned/depunkt words across all tweets]\n",
    "                    }\n",
    "              }\n",
    "    .\n",
    "    .\n",
    "    .\n",
    "    market_k: {\n",
    "                screen_name_1: \n",
    "                    {\n",
    "                        hashtags: [list of hashtags from each tweet], \n",
    "                        fulltext: [list of all cleaned/depunkt words across all tweets]\n",
    "                    },\n",
    "                .\n",
    "                .\n",
    "                screen_name_m: \n",
    "                    {\n",
    "                        hashtags: [list of hashtags from each tweet], \n",
    "                        fulltext: [list of all cleaned/depunkt words across all tweets]\n",
    "                    }\n",
    "              }\n",
    "}\n",
    "```\n",
    "\n",
    "Then I can turn this into a pandas dataframe and do some pretty nice data manipulation.\n",
    "\n",
    "We will call this dictionary the `master_dict`.\n",
    "\n",
    "To do this, we first define some helper functions"
   ]
  },
  {
   "cell_type": "code",
   "execution_count": 6,
   "metadata": {},
   "outputs": [
    {
     "data": {
      "text/plain": [
       "[<matplotlib.lines.Line2D at 0x25c92defba8>]"
      ]
     },
     "execution_count": 6,
     "metadata": {},
     "output_type": "execute_result"
    },
    {
     "data": {
      "image/png": "[encoded data removed]",
      "text/plain": [
       "<Figure size 432x288 with 1 Axes>"
      ]
     },
     "metadata": {
      "needs_background": "light"
     },
     "output_type": "display_data"
    }
   ],
   "source": [
    "k = range(5, 30)\n",
    "coherence_scores = ([.3712, .3747, .3979, .3765, .3859, .3936, \n",
    "                     .3750, .4404, .3566, .4161, .4180, .3897, \n",
    "                     .4209, .4204, .4336, .4241, .4358, .4413, \n",
    "                     .4361, .4364, .4565, .4296, .4339, .4454, .4317])\n",
    "plt.plot(k, coherence_scores)"
   ]
  },
  {
   "cell_type": "code",
   "execution_count": 7,
   "metadata": {},
   "outputs": [],
   "source": [
    "def get_user(tweet):\n",
    "    \"\"\"\n",
    "    input: tweet dictionary\n",
    "    returns: return the username\n",
    "    \"\"\"\n",
    "    return tweet['user']['screen_name']\n",
    "\n",
    "\n",
    "def get_hashtag_list(tweet):\n",
    "    \"\"\"\n",
    "    input: tweet dictionary\n",
    "    returns: list of all hashtags in both the direct tweet and the\n",
    "    retweet \n",
    "    \"\"\"\n",
    "\n",
    "    l = []\n",
    "    for d in tweet['entities']['hashtags']:\n",
    "        l += [d['text']]\n",
    "\n",
    "    if 'retweeted_status' in tweet.keys():\n",
    "        for d in tweet['retweeted_status']['entities']['hashtags']:\n",
    "            l += [d['text']]\n",
    "    return l\n",
    "\n",
    "\n",
    "def tokenizer_cleaner_nostop_lemmatizer(text):\n",
    "    \"\"\"\n",
    "    This function tokenizes the text of a tweet, cleans it off punctuation,\n",
    "    removes stop words, and lemmatizes the words (i.e. finds word roots to remove noise)\n",
    "    I am largely using the gensim and spacy packages \n",
    "\n",
    "    Input: Some text\n",
    "    Output: List of tokenized, cleaned, lemmatized words\n",
    "    \"\"\"\n",
    "\n",
    "    tokenized_depunkt = gensim.utils.simple_preprocess(text, min_len=4, deacc=True)\n",
    "    tokenized_depunkt_nostop = ([word for word in tokenized_depunkt \n",
    "                                 if word not in stop_words and word in english_words])\n",
    "    \n",
    "    # Lemmatizer while also only allowing certain parts of speech.\n",
    "    # See here: https://spacy.io/api/annotation\n",
    "    allowed_pos = ['ADJ', 'ADV', 'NOUN', 'PROPN','VERB']\n",
    "    doc = nlp(' '.join(tokenized_depunkt_nostop))\n",
    "    words_final = [token.lemma_ for token in doc if token.pos_ in allowed_pos]\n",
    "    return words_final\n",
    "\n",
    "    \n",
    "def get_tweet_words_list(tweet):\n",
    "    \"\"\"\n",
    "    This function takes in a tweet and checks if there is a retweet associated with it\n",
    "    input: tweet\n",
    "    output: list of tokenized words without punctuation\n",
    "    \"\"\"\n",
    "\n",
    "    text = tweet['full_text']\n",
    "    clean_words = tokenizer_cleaner_nostop_lemmatizer(text)\n",
    "    \n",
    "    if 'retweeted_status' in tweet.keys():\n",
    "        retweet_text = tweet['retweeted_status']['full_text']\n",
    "        retweet_clean_words = tokenizer_cleaner_nostop_lemmatizer(retweet_text)\n",
    "        clean_words += retweet_clean_words\n",
    "    return clean_words"
   ]
  },
  {
   "cell_type": "code",
   "execution_count": 8,
   "metadata": {},
   "outputs": [],
   "source": [
    "# with open('./data/all_tweets_dict.data', 'rb') as filehandle:\n",
    "#     all_tweets_data = pickle.load(filehandle)\n",
    "\n",
    "# master_dict = {}\n",
    "\n",
    "# for market in all_tweets_data:\n",
    "#     followers = all_tweets_data[market]\n",
    "#     master_dict[market] = {}\n",
    "\n",
    "#     for follower in tqdm(followers):\n",
    "#         tweets = all_tweets_data[market][follower] # list of tweet_.json\n",
    "#         master_dict[market][follower] = {}\n",
    "#         master_dict[market][follower]['hashtags'] = []\n",
    "#         master_dict[market][follower]['fulltext'] = []\n",
    "#         for tweet in tweets:\n",
    "#             hashtags = get_hashtag_list(tweet)\n",
    "#             words = get_tweet_words_list(tweet)\n",
    "            \n",
    "#             master_dict[market][follower]['hashtags'].extend(hashtags)\n",
    "#             master_dict[market][follower]['fulltext'].extend(words)\n",
    "\n",
    "# with open('./data/master_dict.data', 'wb') as filehandle:\n",
    "#     pickle.dump(master_dict, filehandle, protocol=pickle.HIGHEST_PROTOCOL)"
   ]
  },
  {
   "cell_type": "markdown",
   "metadata": {},
   "source": [
    "## Latent Dirichlet Allocation\n",
    "\n",
    "Now we apply the LDA algorithm to identify themes in the documents/topics. In my case, a single document corresponds to the set of all words of a single user's tweets. Note that the list of words that comprose a document have already been cleaned, tokenized and lemmatized. \n",
    "\n",
    "One other thought is to have one MASSIVE document containing all tweets of all users, and then finding the topics there. In the comparison step, I could use these top topics and then compare this to all tweets of individual users and then returning top-k users based on similarity. See [this](https://stats.stackexchange.com/questions/269031/how-to-find-similar-documents-after-a-latent-dirichlet-allocation-model-is-bui) stack-exchange post for ideas.\n",
    "\n",
    "We first write some helper functions"
   ]
  },
  {
   "cell_type": "code",
   "execution_count": 9,
   "metadata": {},
   "outputs": [],
   "source": [
    "with open('./data/master_dict.data', 'rb') as filehandle:\n",
    "    master_dict = pickle.load(filehandle)"
   ]
  },
  {
   "cell_type": "code",
   "execution_count": 10,
   "metadata": {},
   "outputs": [],
   "source": [
    "def get_docs(d, market):\n",
    "    \"\"\"\n",
    "    Accepts a market and then returns the documents for the market. A document\n",
    "    is a list of of word lists for each user in the market city i.e. it is a list of lists.\n",
    "    Each outer list is a follower and the innner list is the cleaner, tokenized, depunkt, \n",
    "    lematized set of words for that follower.\n",
    "    \"\"\"\n",
    "    docs = []\n",
    "    for user in tqdm(d[market]):\n",
    "        text_list = d[market][user]['fulltext']\n",
    "        docs.append(text_list)\n",
    "    return docs"
   ]
  },
  {
   "cell_type": "code",
   "execution_count": 21,
   "metadata": {},
   "outputs": [
    {
     "name": "stderr",
     "output_type": "stream",
     "text": [
      "100%|████████████████████████████████████████████████████████████████████████████████████████| 253/253 [00:00<?, ?it/s]\n"
     ]
    }
   ],
   "source": [
    "markets = list(master_dict.keys())\n",
    "docs = get_docs(master_dict, markets[1])\n",
    "id2word = corpora.Dictionary(docs)\n",
    "corpus = [id2word.doc2bow(doc) for doc in docs]\n",
    "\n",
    "# Maybe at this point, remove words that appear only once or twice in the corpus"
   ]
  },
  {
   "cell_type": "code",
   "execution_count": 22,
   "metadata": {},
   "outputs": [
    {
     "name": "stderr",
     "output_type": "stream",
     "text": [
      "C:\\Users\\adity\\AppData\\Local\\Continuum\\anaconda3\\envs\\insightenv\\lib\\site-packages\\smart_open\\smart_open_lib.py:402: UserWarning: This function is deprecated, use smart_open.open instead. See the migration notes for details: https://github.com/RaRe-Technologies/smart_open/blob/master/README.rst#migrating-to-the-new-open-function\n",
      "  'See the migration notes for details: %s' % _MIGRATION_NOTES_URL\n",
      "C:\\Users\\adity\\AppData\\Local\\Continuum\\anaconda3\\envs\\insightenv\\lib\\site-packages\\smart_open\\smart_open_lib.py:402: UserWarning: This function is deprecated, use smart_open.open instead. See the migration notes for details: https://github.com/RaRe-Technologies/smart_open/blob/master/README.rst#migrating-to-the-new-open-function\n",
      "  'See the migration notes for details: %s' % _MIGRATION_NOTES_URL\n"
     ]
    },
    {
     "name": "stdout",
     "output_type": "stream",
     "text": [
      "[(19,\n",
      "  '0.045*\"photography\" + 0.007*\"trump\" + 0.006*\"make\" + 0.004*\"park\" + '\n",
      "  '0.004*\"sunset\" + 0.004*\"lake\" + 0.004*\"may\" + 0.004*\"national\" + '\n",
      "  '0.004*\"aurora\" + 0.003*\"dwell\"'),\n",
      " (16,\n",
      "  '0.055*\"abortion\" + 0.046*\"portland\" + 0.024*\"woman\" + 0.023*\"fertility\" + '\n",
      "  '0.014*\"acupuncture\" + 0.013*\"health\" + 0.013*\"access\" + 0.012*\"help\" + '\n",
      "  '0.012*\"care\" + 0.009*\"pregnancy\"'),\n",
      " (8,\n",
      "  '0.008*\"make\" + 0.007*\"work\" + 0.007*\"time\" + 0.006*\"know\" + '\n",
      "  '0.006*\"entrepreneur\" + 0.006*\"great\" + 0.006*\"good\" + 0.006*\"take\" + '\n",
      "  '0.005*\"thank\" + 0.005*\"people\"'),\n",
      " (6,\n",
      "  '0.059*\"check\" + 0.028*\"vintage\" + 0.010*\"handmade\" + 0.010*\"gift\" + '\n",
      "  '0.008*\"baby\" + 0.007*\"disney\" + 0.006*\"shop\" + 0.006*\"woman\" + 0.005*\"rare\" '\n",
      "  '+ 0.005*\"glass\"'),\n",
      " (11,\n",
      "  '0.020*\"coffee\" + 0.013*\"table\" + 0.011*\"auction\" + 0.010*\"cover\" + '\n",
      "  '0.009*\"year\" + 0.007*\"woman\" + 0.007*\"today\" + 0.007*\"housing\" + '\n",
      "  '0.006*\"register\" + 0.006*\"look\"'),\n",
      " (12,\n",
      "  '0.110*\"market\" + 0.067*\"farmer\" + 0.030*\"today\" + 0.026*\"square\" + '\n",
      "  '0.023*\"open\" + 0.022*\"farm\" + 0.018*\"farmers\" + 0.016*\"week\" + '\n",
      "  '0.016*\"boston\" + 0.015*\"local\"'),\n",
      " (0,\n",
      "  '0.037*\"food\" + 0.025*\"health\" + 0.024*\"pain\" + 0.018*\"patient\" + '\n",
      "  '0.016*\"people\" + 0.013*\"cannabis\" + 0.008*\"cancer\" + 0.007*\"nutrition\" + '\n",
      "  '0.007*\"animal\" + 0.007*\"brain\"'),\n",
      " (4,\n",
      "  '0.011*\"oregon\" + 0.009*\"city\" + 0.009*\"today\" + 0.008*\"student\" + '\n",
      "  '0.008*\"help\" + 0.007*\"community\" + 0.007*\"work\" + 0.006*\"thank\" + '\n",
      "  '0.006*\"school\" + 0.006*\"portland\"'),\n",
      " (15,\n",
      "  '0.042*\"garden\" + 0.029*\"plant\" + 0.013*\"good\" + 0.011*\"flower\" + '\n",
      "  '0.011*\"make\" + 0.009*\"happy\" + 0.009*\"year\" + 0.009*\"time\" + 0.009*\"help\" + '\n",
      "  '0.009*\"love\"'),\n",
      " (17,\n",
      "  '0.066*\"para\" + 0.013*\"mexico\" + 0.011*\"tree\" + 0.010*\"solo\" + 0.009*\"pais\" '\n",
      "  '+ 0.008*\"dias\" + 0.008*\"video\" + 0.008*\"venezuela\" + 0.007*\"contra\" + '\n",
      "  '0.007*\"gracias\"'),\n",
      " (9,\n",
      "  '0.024*\"food\" + 0.016*\"make\" + 0.016*\"recipe\" + 0.009*\"dinner\" + '\n",
      "  '0.008*\"spice\" + 0.006*\"good\" + 0.006*\"chef\" + 0.006*\"delicious\" + '\n",
      "  '0.006*\"happy\" + 0.006*\"love\"'),\n",
      " (5,\n",
      "  '0.012*\"good\" + 0.011*\"love\" + 0.010*\"time\" + 0.009*\"year\" + 0.009*\"go\" + '\n",
      "  '0.008*\"game\" + 0.007*\"make\" + 0.007*\"come\" + 0.006*\"back\" + 0.006*\"know\"'),\n",
      " (21,\n",
      "  '0.012*\"travel\" + 0.011*\"thank\" + 0.010*\"museum\" + 0.009*\"portland\" + '\n",
      "  '0.009*\"today\" + 0.008*\"open\" + 0.008*\"join\" + 0.007*\"photo\" + 0.007*\"wine\" '\n",
      "  '+ 0.007*\"visit\"'),\n",
      " (1,\n",
      "  '0.009*\"houston\" + 0.008*\"look\" + 0.007*\"today\" + 0.007*\"people\" + '\n",
      "  '0.006*\"come\" + 0.006*\"follow\" + 0.005*\"work\" + 0.005*\"follower\" + '\n",
      "  '0.005*\"oregon\" + 0.005*\"good\"'),\n",
      " (14,\n",
      "  '0.000*\"substantially\" + 0.000*\"suds\" + 0.000*\"souvlaki\" + 0.000*\"spalding\" '\n",
      "  '+ 0.000*\"stockpot\" + 0.000*\"strangers\" + 0.000*\"sludge\" + 0.000*\"sucrose\" + '\n",
      "  '0.000*\"tractable\" + 0.000*\"thermometer\"'),\n",
      " (7,\n",
      "  '0.019*\"trump\" + 0.008*\"people\" + 0.007*\"president\" + 0.006*\"say\" + '\n",
      "  '0.006*\"know\" + 0.006*\"make\" + 0.005*\"year\" + 0.005*\"want\" + 0.005*\"would\" + '\n",
      "  '0.004*\"time\"'),\n",
      " (2,\n",
      "  '0.000*\"substantially\" + 0.000*\"suds\" + 0.000*\"souvlaki\" + 0.000*\"spalding\" '\n",
      "  '+ 0.000*\"stockpot\" + 0.000*\"strangers\" + 0.000*\"sludge\" + 0.000*\"sucrose\" + '\n",
      "  '0.000*\"tractable\" + 0.000*\"thermometer\"'),\n",
      " (3,\n",
      "  '0.057*\"music\" + 0.026*\"video\" + 0.024*\"song\" + 0.014*\"thank\" + '\n",
      "  '0.013*\"listen\" + 0.012*\"check\" + 0.012*\"love\" + 0.011*\"live\" + 0.010*\"band\" '\n",
      "  '+ 0.010*\"link\"'),\n",
      " (13,\n",
      "  '0.000*\"substantially\" + 0.000*\"suds\" + 0.000*\"souvlaki\" + 0.000*\"spalding\" '\n",
      "  '+ 0.000*\"stockpot\" + 0.000*\"strangers\" + 0.000*\"sludge\" + 0.000*\"sucrose\" + '\n",
      "  '0.000*\"tractable\" + 0.000*\"thermometer\"'),\n",
      " (10,\n",
      "  '0.000*\"substantially\" + 0.000*\"suds\" + 0.000*\"souvlaki\" + 0.000*\"spalding\" '\n",
      "  '+ 0.000*\"stockpot\" + 0.000*\"strangers\" + 0.000*\"sludge\" + 0.000*\"sucrose\" + '\n",
      "  '0.000*\"tractable\" + 0.000*\"thermometer\"')]\n"
     ]
    }
   ],
   "source": [
    "def compute_lda(corpus, id2word, k=22, alpha='auto'):\n",
    "    \"\"\"\n",
    "    Performs the LDA and returns the computer model.\n",
    "    Input: Corpus, dictionary and hyperparameters to optimize\n",
    "    Output: the fitted/computed LDA model\n",
    "    \"\"\"\n",
    "    lda_model = gensim.models.ldamulticore.LdaMulticore(corpus=corpus, \n",
    "                                                id2word=id2word,\n",
    "                                                num_topics=k,\n",
    "                                                random_state=100,\n",
    "                                                # update_every=1,\n",
    "                                                chunksize=5,\n",
    "                                                passes=50,\n",
    "                                                alpha=.01,\n",
    "                                                per_word_topics=True)\n",
    "    return lda_model\n",
    "\n",
    "lda_model = compute_lda(corpus, id2word)\n",
    "t2 = time.time()\n",
    "lda_model.save('./lda_model/lda_model_market1.model')\n",
    "pprint(lda_model.print_topics())\n"
   ]
  },
  {
   "cell_type": "markdown",
   "metadata": {},
   "source": [
    "### Some comments on the hyperparameter tuning:\n",
    "\n",
    "1. Doing a chunksize of 1 is pretty slow and time consuming (although it might be worthwhile to time this more accurately). I think either choosing `chunksize=5` or `chunksize=10` works well.\n",
    "2. `passes` is a parameter similar to number of epochs. \n",
    "3. `alpha='auto'` seems to work pretty well. \n",
    "4. Keep `random_state=100` in case you want to repeat results. \n",
    "5. Keep `update_every` small, ideally equal to 1. \n",
    "6. Use a for loop to calculate the optimal number of topics. This just has to be done. Might be better to do this in the background on the python terminal"
   ]
  },
  {
   "cell_type": "markdown",
   "metadata": {},
   "source": [
    "## Calculating the Coherence score"
   ]
  },
  {
   "cell_type": "code",
   "execution_count": 16,
   "metadata": {},
   "outputs": [
    {
     "name": "stdout",
     "output_type": "stream",
     "text": [
      "Coherence Score: 0.4577590844248159\n"
     ]
    }
   ],
   "source": [
    "coherence_model_lda = CoherenceModel(model=lda_model,\n",
    "                                     texts=docs,\n",
    "                                     dictionary=id2word,\n",
    "                                     coherence='c_v')\n",
    "coherence_lda = coherence_model_lda.get_coherence()\n",
    "\n",
    "print('Coherence Score:', coherence_lda)\n"
   ]
  },
  {
   "cell_type": "code",
   "execution_count": null,
   "metadata": {},
   "outputs": [],
   "source": [
    "LDAvis_prepared = pyLDAvis.gensim.prepare(lda_model, corpus, dictionary=lda_model.id2word, mds='tsne')\n",
    "pyLDAvis.show(LDAvis_prepared)"
   ]
  }
 ],
 "metadata": {
  "file_extension": ".py",
  "kernelspec": {
   "display_name": "Python 3.6.8 64-bit ('insightenv': conda)",
   "language": "python",
   "name": "python36864bitinsightenvconda4d948c2035f94dc3b09753f05f123a75"
  },
  "language_info": {
   "codemirror_mode": {
    "name": "ipython",
    "version": 3
   },
   "file_extension": ".py",
   "mimetype": "text/x-python",
   "name": "python",
   "nbconvert_exporter": "python",
   "pygments_lexer": "ipython3",
   "version": "3.6.8"
  },
  "mimetype": "text/x-python",
  "name": "python",
  "npconvert_exporter": "python",
  "pygments_lexer": "ipython3",
  "version": 3
 },
 "nbformat": 4,
 "nbformat_minor": 2
}
