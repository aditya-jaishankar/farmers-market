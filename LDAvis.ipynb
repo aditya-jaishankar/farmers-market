{
 "nbformat": 4,
 "nbformat_minor": 2,
 "metadata": {
  "language_info": {
   "name": "python",
   "codemirror_mode": {
    "name": "ipython",
    "version": 3
   },
   "version": "3.6.8-final"
  },
  "orig_nbformat": 2,
  "file_extension": ".py",
  "mimetype": "text/x-python",
  "name": "python",
  "npconvert_exporter": "python",
  "pygments_lexer": "ipython3",
  "version": 3,
  "kernelspec": {
   "name": "python36864bitinsightenvconda4d948c2035f94dc3b09753f05f123a75",
   "display_name": "Python 3.6.8 64-bit ('insightenv': conda)"
  }
 },
 "cells": [
  {
   "cell_type": "markdown",
   "execution_count": null,
   "metadata": {},
   "outputs": [],
   "source": [
    "# Code to prepare and generate LDA visualization"
   ]
  },
  {
   "cell_type": "markdown",
   "execution_count": 1,
   "metadata": {},
   "outputs": [],
   "source": [
    "## Imports"
   ]
  },
  {
   "cell_type": "code",
   "execution_count": 13,
   "metadata": {},
   "outputs": [],
   "source": [
    "# General imports\n",
    "import time\n",
    "import os\n",
    "dirpath = os.path.dirname(os.path.realpath('__file__'))\n",
    "from pprint import pprint\n",
    "\n",
    "#gensim imports\n",
    "import gensim\n",
    "import gensim.corpora as corpora\n",
    "from gensim.models import CoherenceModel\n",
    "\n",
    "# Visualization imports\n",
    "import pyLDAvis\n",
    "import pyLDAvis.gensim\n",
    "pyLDAvis.enable_notebook()\n",
    "import matplotlib.pyplot as plt\n",
    "\n",
    "# Other imports\n",
    "import pandas as pd\n",
    "import numpy as np\n",
    "import pickle"
   ]
  },
  {
   "cell_type": "code",
   "execution_count": 16,
   "metadata": {},
   "outputs": [
    {
     "name": "stderr",
     "output_type": "stream",
     "text": "C:\\Users\\adity\\AppData\\Local\\Continuum\\anaconda3\\envs\\insightenv\\lib\\site-packages\\smart_open\\smart_open_lib.py:402: UserWarning: This function is deprecated, use smart_open.open instead. See the migration notes for details: https://github.com/RaRe-Technologies/smart_open/blob/master/README.rst#migrating-to-the-new-open-function\n  'See the migration notes for details: %s' % _MIGRATION_NOTES_URL\nC:\\Users\\adity\\AppData\\Local\\Continuum\\anaconda3\\envs\\insightenv\\lib\\site-packages\\smart_open\\smart_open_lib.py:402: UserWarning: This function is deprecated, use smart_open.open instead. See the migration notes for details: https://github.com/RaRe-Technologies/smart_open/blob/master/README.rst#migrating-to-the-new-open-function\n  'See the migration notes for details: %s' % _MIGRATION_NOTES_URL\n"
    }
   ],
   "source": [
    "market_index = 1 # Select market number for now; later change to name\n",
    "filename = './ldamodels/market' + str(market_index) + '/model.model'\n",
    "filename_corpus = './ldamodels/market' + str(market_index) + '/corpus.corpus'\n",
    "\n",
    "lda_model = gensim.models.ldamodel.LdaModel.load(filename)\n",
    "with open(filename_corpus, 'rb') as filehandle:\n",
    "    corpus = pickle.load(filehandle)"
   ]
  },
  {
   "cell_type": "code",
   "execution_count": 17,
   "metadata": {},
   "outputs": [
    {
     "name": "stderr",
     "output_type": "stream",
     "text": "C:\\Users\\adity\\AppData\\Local\\Continuum\\anaconda3\\envs\\insightenv\\lib\\site-packages\\pyLDAvis\\_prepare.py:257: FutureWarning: Sorting because non-concatenation axis is not aligned. A future version\nof pandas will change to not sort by default.\n\nTo accept the future behavior, pass 'sort=False'.\n\nTo retain the current behavior and silence the warning, pass 'sort=True'.\n\n  return pd.concat([default_term_info] + list(topic_dfs))\nLDAvis prep time: 61.78956437110901\n\nNote: if you're in the IPython notebook, pyLDAvis.show() is not the best command\n      to use. Consider using pyLDAvis.display(), or pyLDAvis.enable_notebook().\n      See more information at http://pyLDAvis.github.io/quickstart.html .\n\nYou must interrupt the kernel to end this command\n\nServing to http://127.0.0.1:8889/    [Ctrl-C to exit]\n127.0.0.1 - - [27/Jan/2020 18:53:09] \"GET / HTTP/1.1\" 200 -\n127.0.0.1 - - [27/Jan/2020 18:53:09] \"GET /LDAvis.css HTTP/1.1\" 200 -\n127.0.0.1 - - [27/Jan/2020 18:53:09] \"GET /d3.js HTTP/1.1\" 200 -\n127.0.0.1 - - [27/Jan/2020 18:53:09] \"GET /LDAvis.js HTTP/1.1\" 200 -\n\nstopping Server...\n"
    }
   ],
   "source": [
    "t1 = time.time()\n",
    "LDAvis_prepared = pyLDAvis.gensim.prepare(lda_model, corpus, dictionary=lda_model.id2word, mds='tsne')\n",
    "t2 = time.time()\n",
    "print('LDAvis prep time:', t2-t1)\n",
    "\n",
    "vis_filename = './LDAvis_prepared/market' + str(market_index) + '/LDAvis.html'\n",
    "pyLDAvis.save_html(LDAvis_prepared, vis_filename)\n",
    "pyLDAvis.show(LDAvis_prepared)"
   ]
  },
  {
   "cell_type": "code",
   "execution_count": null,
   "metadata": {},
   "outputs": [],
   "source": []
  }
 ]
}