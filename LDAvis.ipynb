{
 "nbformat": 4,
 "nbformat_minor": 2,
 "metadata": {
  "language_info": {
   "name": "python",
   "codemirror_mode": {
    "name": "ipython",
    "version": 3
   },
   "version": "3.6.8-final"
  },
  "orig_nbformat": 2,
  "file_extension": ".py",
  "mimetype": "text/x-python",
  "name": "python",
  "npconvert_exporter": "python",
  "pygments_lexer": "ipython3",
  "version": 3,
  "kernelspec": {
   "name": "python36864bitinsightenvconda4d948c2035f94dc3b09753f05f123a75",
   "display_name": "Python 3.6.8 64-bit ('insightenv': conda)"
  }
 },
 "cells": [
  {
   "cell_type": "markdown",
   "execution_count": null,
   "metadata": {},
   "outputs": [],
   "source": [
    "# Code to prepare and generate LDA visualization"
   ]
  },
  {
   "cell_type": "markdown",
   "execution_count": 1,
   "metadata": {},
   "outputs": [],
   "source": [
    "## Imports"
   ]
  },
  {
   "cell_type": "code",
   "execution_count": 15,
   "metadata": {},
   "outputs": [],
   "source": [
    "# General imports\n",
    "import time\n",
    "import os\n",
    "dirpath = os.path.dirname(os.path.realpath('__file__'))\n",
    "from pprint import pprint\n",
    "\n",
    "#gensim imports\n",
    "import gensim\n",
    "import gensim.corpora as corpora\n",
    "from gensim.models import CoherenceModel\n",
    "\n",
    "# Visualization imports\n",
    "import pyLDAvis\n",
    "import pyLDAvis.gensim\n",
    "pyLDAvis.enable_notebook()\n",
    "import matplotlib.pyplot as plt\n",
    "from tqdm import tqdm as tqdm\n",
    "\n",
    "# Other imports\n",
    "import pandas as pd\n",
    "import numpy as np\n",
    "import pickle\n",
    "import webbrowser\n",
    "import os\n",
    "import warnings\n",
    "\n",
    "dirpath = os.path.dirname(os.path.realpath('__file__'))"
   ]
  },
  {
   "cell_type": "code",
   "execution_count": 16,
   "metadata": {},
   "outputs": [],
   "source": [
    "def generate_pyLDAvis_visuals(market_index):\n",
    "    with warnings.catch_warnings():\n",
    "        warnings.simplefilter(\"ignore\")\n",
    "        filename = './ldamodels/market' + str(market_index) + '/model.model'\n",
    "        filename_corpus = './ldamodels/market' + str(market_index) + '/corpus.corpus'\n",
    "\n",
    "        lda_model = gensim.models.ldamodel.LdaModel.load(filename)\n",
    "        with open(filename_corpus, 'rb') as filehandle:\n",
    "            corpus = pickle.load(filehandle)\n",
    "\n",
    "        LDAvis_prepared = pyLDAvis.gensim.prepare(lda_model, corpus,\n",
    "                                                dictionary=lda_model.id2word,\n",
    "                                                mds='tsne')\n",
    "\n",
    "        vis_filename = './LDAvis_prepared/market' + str(market_index) + '/LDAvis.html'\n",
    "\n",
    "    return (LDAvis_prepared, vis_filename)\n",
    "\n",
    "\n",
    "def show_visual_in_browser(market_index):\n",
    "    vis_filename = './LDAvis_prepared/market' + str(market_index) + '/LDAvis.html'\n",
    "    url =  ('file://' + dirpath + '/LDAvis_prepared/market' + \n",
    "                str(market_index) + '/LDAvis.html')\n",
    "    webbrowser.open(url, new=2)  # open in new tab\n",
    "    return None"
   ]
  },
  {
   "cell_type": "code",
   "execution_count": 17,
   "metadata": {},
   "outputs": [
    {
     "name": "stderr",
     "output_type": "stream",
     "text": "\n  0%|          | 0/7 [00:00<?, ?it/s]\n 14%|█▍        | 1/7 [01:08<06:52, 68.82s/it]\n 29%|██▊       | 2/7 [02:08<05:31, 66.21s/it]\n 43%|████▎     | 3/7 [03:10<04:19, 64.77s/it]\n 57%|█████▋    | 4/7 [04:24<03:22, 67.59s/it]\n 71%|███████▏  | 5/7 [05:23<02:09, 64.86s/it]\n 86%|████████▌ | 6/7 [06:33<01:06, 66.55s/it]\n100%|██████████| 7/7 [07:36<00:00, 65.61s/it]"
    }
   ],
   "source": [
    "for market_index in tqdm(range(7)):\n",
    "    visual, filename = generate_pyLDAvis_visuals(market_index)\n",
    "    pyLDAvis.save_html(visual, filename)"
   ]
  },
  {
   "cell_type": "code",
   "execution_count": 18,
   "metadata": {},
   "outputs": [],
   "source": [
    "for i in range(7):\n",
    "    show_visual_in_browser(i)"
   ]
  },
  {
   "cell_type": "code",
   "execution_count": null,
   "metadata": {},
   "outputs": [],
   "source": []
  }
 ]
}